{
 "cells": [
  {
   "cell_type": "code",
   "execution_count": 3,
   "metadata": {},
   "outputs": [
    {
     "name": "stdout",
     "output_type": "stream",
     "text": [
      "i 0\n",
      "i 3\n",
      "i 6\n",
      "i 9\n"
     ]
    }
   ],
   "source": [
    "for i in range(0,int(input()),3):\n",
    "    print(\"i\",i)"
   ]
  },
  {
   "cell_type": "code",
   "execution_count": null,
   "metadata": {},
   "outputs": [],
   "source": []
  },
  {
   "cell_type": "code",
   "execution_count": 12,
   "metadata": {},
   "outputs": [
    {
     "name": "stdout",
     "output_type": "stream",
     "text": [
      "NO\n"
     ]
    }
   ],
   "source": [
    "# cook your dish here\n",
    "for _ in range(int(input())):\n",
    "    v = [\"a\", \"i\", \"e\", \"o\", \"u\"]\n",
    "    n = int(input())\n",
    "    l = list(input())\n",
    "    cn = 00\n",
    "    x = \"YES\"\n",
    "    for i in range(len(l)):\n",
    "        if l[i] not in v:\n",
    "            cn += 1\n",
    "            if cn >= 4:\n",
    "                x = \"NO\"\n",
    "                # break\n",
    "\n",
    "        else:\n",
    "            cn = 0\n",
    "    print(x)\n"
   ]
  },
  {
   "cell_type": "code",
   "execution_count": null,
   "metadata": {},
   "outputs": [],
   "source": []
  }
 ],
 "metadata": {
  "kernelspec": {
   "display_name": "Python 3.10.5 64-bit",
   "language": "python",
   "name": "python3"
  },
  "language_info": {
   "codemirror_mode": {
    "name": "ipython",
    "version": 3
   },
   "file_extension": ".py",
   "mimetype": "text/x-python",
   "name": "python",
   "nbconvert_exporter": "python",
   "pygments_lexer": "ipython3",
   "version": "3.10.5"
  },
  "orig_nbformat": 4,
  "vscode": {
   "interpreter": {
    "hash": "27f6fea6f47ae512550f0b8facdbd035a93e1dd89633f7bf2dd00a2502c71d0d"
   }
  }
 },
 "nbformat": 4,
 "nbformat_minor": 2
}
